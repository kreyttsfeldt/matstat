{
 "cells": [
  {
   "cell_type": "markdown",
   "metadata": {},
   "source": [
    "дз 19.207, 208, 214, 215, 221, 225, 227"
   ]
  },
  {
   "cell_type": "code",
   "execution_count": 1,
   "metadata": {},
   "outputs": [],
   "source": [
    "import numpy as np\n",
    "import matplotlib.pyplot as plt\n",
    "import scipy.stats as sts\n",
    "%matplotlib inline"
   ]
  },
  {
   "cell_type": "markdown",
   "metadata": {},
   "source": [
    "19.207"
   ]
  },
  {
   "cell_type": "code",
   "execution_count": 103,
   "metadata": {},
   "outputs": [
    {
     "data": {
      "text/plain": [
       "0.2742531177500708"
      ]
     },
     "execution_count": 103,
     "metadata": {},
     "output_type": "execute_result"
    }
   ],
   "source": [
    "sts.norm.cdf((40-40.1)*6/1)"
   ]
  },
  {
   "cell_type": "code",
   "execution_count": 104,
   "metadata": {},
   "outputs": [
    {
     "data": {
      "text/plain": [
       "0.11506967022171327"
      ]
     },
     "execution_count": 104,
     "metadata": {},
     "output_type": "execute_result"
    }
   ],
   "source": [
    "sts.norm.cdf((40.1-40.3)*6/1)"
   ]
  },
  {
   "cell_type": "markdown",
   "metadata": {},
   "source": [
    "19.208"
   ]
  },
  {
   "cell_type": "code",
   "execution_count": 108,
   "metadata": {},
   "outputs": [
    {
     "name": "stdout",
     "output_type": "stream",
     "text": [
      "0.5485062355001415\n"
     ]
    }
   ],
   "source": [
    "print(1-sts.norm.cdf((40.1-40)*((36)**0.5)/1)+sts.norm.cdf((39.9-40)*((36)**0.5)/1))"
   ]
  },
  {
   "cell_type": "code",
   "execution_count": 109,
   "metadata": {},
   "outputs": [
    {
     "name": "stdout",
     "output_type": "stream",
     "text": [
      "0.10687213429711695\n"
     ]
    }
   ],
   "source": [
    "print(sts.norm.cdf((40.1-40.3)*((36)**0.5)/1)-sts.norm.cdf((39.9-40.3)*((36)**0.5)/1))"
   ]
  },
  {
   "cell_type": "markdown",
   "metadata": {},
   "source": [
    "19.209"
   ]
  },
  {
   "cell_type": "code",
   "execution_count": 111,
   "metadata": {},
   "outputs": [
    {
     "data": {
      "text/plain": [
       "0.06899045512505675"
      ]
     },
     "execution_count": 111,
     "metadata": {},
     "output_type": "execute_result"
    }
   ],
   "source": [
    "sts.norm.cdf((40.2-40)*((36)**0.5)/1)-sts.norm.cdf((40.15-40)*((36)**0.5)/1)"
   ]
  },
  {
   "cell_type": "code",
   "execution_count": 120,
   "metadata": {},
   "outputs": [
    {
     "data": {
      "text/plain": [
       "0.9098070075966769"
      ]
     },
     "execution_count": 120,
     "metadata": {},
     "output_type": "execute_result"
    }
   ],
   "source": [
    "1-sts.norm.cdf((40.2-40.3)*((36)**0.5)/1)+sts.norm.cdf((40.15-40.3)*((36)**0.5)/1)"
   ]
  },
  {
   "cell_type": "markdown",
   "metadata": {},
   "source": [
    "19.214"
   ]
  },
  {
   "cell_type": "code",
   "execution_count": 126,
   "metadata": {},
   "outputs": [
    {
     "data": {
      "text/plain": [
       "(True, True)"
      ]
     },
     "execution_count": 126,
     "metadata": {},
     "output_type": "execute_result"
    }
   ],
   "source": [
    "m=10\n",
    "alpha=0.05\n",
    "n=16\n",
    "x=10.3\n",
    "d_2=1\n",
    "s_2=1.21\n",
    "abs(m-x)*((n)**0.5)/d_2**0.5<sts.norm.ppf(1-alpha),abs(m-x)*((n)**0.5)/s_2**0.5<sts.t.ppf(1-alpha,15)"
   ]
  },
  {
   "cell_type": "markdown",
   "metadata": {},
   "source": [
    "19.215"
   ]
  },
  {
   "cell_type": "code",
   "execution_count": 127,
   "metadata": {},
   "outputs": [
    {
     "data": {
      "text/plain": [
       "(False, True)"
      ]
     },
     "execution_count": 127,
     "metadata": {},
     "output_type": "execute_result"
    }
   ],
   "source": [
    "n=36\n",
    "x=9.3\n",
    "alpha=0.05\n",
    "m=10\n",
    "d_2=4\n",
    "s_2=6.25\n",
    "abs(m-x)*((n)**0.5)/d_2**0.5<sts.norm.ppf(1-alpha/2),abs(m-x)*((n)**0.5)/s_2**0.5<sts.t.ppf(1-alpha/2,15)"
   ]
  },
  {
   "cell_type": "markdown",
   "metadata": {},
   "source": [
    "19.221"
   ]
  },
  {
   "cell_type": "code",
   "execution_count": 128,
   "metadata": {},
   "outputs": [
    {
     "data": {
      "text/plain": [
       "True"
      ]
     },
     "execution_count": 128,
     "metadata": {},
     "output_type": "execute_result"
    }
   ],
   "source": [
    "x1=70.2\n",
    "n1=4\n",
    "x2=70.5\n",
    "n2=9\n",
    "alpha=0.05\n",
    "d1=0.5\n",
    "d2=1\n",
    "abs(x1-x2)/(d1**2/n1+d2**2/n2)**0.5<sts.t.ppf(1-alpha/2,(d1**2/n1+d2**2/n2)/(d1**2/n1/(n1-1)+d2**2/n2/(n2-1)))"
   ]
  },
  {
   "cell_type": "markdown",
   "metadata": {},
   "source": [
    "19.225"
   ]
  },
  {
   "cell_type": "code",
   "execution_count": 138,
   "metadata": {},
   "outputs": [
    {
     "name": "stdout",
     "output_type": "stream",
     "text": [
      "36.0 18.307038053275146\n"
     ]
    },
    {
     "data": {
      "text/plain": [
       "False"
      ]
     },
     "execution_count": 138,
     "metadata": {},
     "output_type": "execute_result"
    }
   ],
   "source": [
    "n=10\n",
    "s=100\n",
    "d=50\n",
    "alpha=0.05\n",
    "print((n-1)*s**2/d**2,sts.chi2.ppf(0.95,10))\n",
    "(n-1)*s**2/d**2<sts.chi2.ppf(0.95,10)##критическая область:(18.3,inf)"
   ]
  },
  {
   "cell_type": "markdown",
   "metadata": {},
   "source": [
    "19.227"
   ]
  },
  {
   "cell_type": "code",
   "execution_count": 2,
   "metadata": {},
   "outputs": [
    {
     "name": "stdout",
     "output_type": "stream",
     "text": [
      "3.5087008194813225 3.841458820694124\n"
     ]
    },
    {
     "data": {
      "text/plain": [
       "True"
      ]
     },
     "execution_count": 2,
     "metadata": {},
     "output_type": "execute_result"
    }
   ],
   "source": [
    "n1=9\n",
    "n2=11\n",
    "s1_2=5.9\n",
    "s2_2=23.2\n",
    "alpha=0.05\n",
    "z=1/(1+1/3*(1/(n1-1)+1/(n2-1)-1/\n",
    "            (n1+n2-1-1)))*((n1-1+n2-1)*\n",
    "                           np.log(((n1-1)*s1_2+(n2-1)*s2_2)/(n1+n2-1-1))-\n",
    "                           (n1-1)*np.log(s1_2)-(n2-1)*np.log(s2_2))\n",
    "print(z,sts.chi2.ppf(1-alpha,1))\n",
    "z<sts.chi2.ppf(1-alpha,1)"
   ]
  },
  {
   "cell_type": "code",
   "execution_count": 4,
   "metadata": {},
   "outputs": [
    {
     "name": "stdout",
     "output_type": "stream",
     "text": [
      "3.932203389830508 3.071658385279037\n"
     ]
    },
    {
     "data": {
      "text/plain": [
       "False"
      ]
     },
     "execution_count": 4,
     "metadata": {},
     "output_type": "execute_result"
    }
   ],
   "source": [
    "print(23.2/5.9,sts.f.ppf(1-alpha,8,10))\n",
    "23.2/5.9<sts.f.ppf(1-alpha,8,10)"
   ]
  },
  {
   "cell_type": "code",
   "execution_count": null,
   "metadata": {},
   "outputs": [],
   "source": []
  }
 ],
 "metadata": {
  "kernelspec": {
   "display_name": "Python 3",
   "language": "python",
   "name": "python3"
  },
  "language_info": {
   "codemirror_mode": {
    "name": "ipython",
    "version": 3
   },
   "file_extension": ".py",
   "mimetype": "text/x-python",
   "name": "python",
   "nbconvert_exporter": "python",
   "pygments_lexer": "ipython3",
   "version": "3.8.2"
  }
 },
 "nbformat": 4,
 "nbformat_minor": 4
}
